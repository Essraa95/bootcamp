{
 "cells": [
  {
   "cell_type": "code",
   "execution_count": 4,
   "metadata": {},
   "outputs": [
    {
     "name": "stdout",
     "output_type": "stream",
     "text": [
      "Essraa\n"
     ]
    },
    {
     "ename": "NameError",
     "evalue": "name 'Essraa' is not defined",
     "output_type": "error",
     "traceback": [
      "\u001b[1;31m---------------------------------------------------------------------------\u001b[0m",
      "\u001b[1;31mNameError\u001b[0m                                 Traceback (most recent call last)",
      "Cell \u001b[1;32mIn[4], line 3\u001b[0m\n\u001b[0;32m      1\u001b[0m \u001b[38;5;28mprint\u001b[39m (\u001b[38;5;124m\"\u001b[39m\u001b[38;5;124mEssraa\u001b[39m\u001b[38;5;124m\"\u001b[39m)\n\u001b[1;32m----> 3\u001b[0m name \u001b[38;5;241m=\u001b[39m \u001b[43mEssraa\u001b[49m\n\u001b[0;32m      4\u001b[0m \u001b[38;5;28mprint\u001b[39m (name, \u001b[38;5;124m\"\u001b[39m\u001b[38;5;124mAhmed\u001b[39m\u001b[38;5;124m\"\u001b[39m)\n\u001b[0;32m      5\u001b[0m x1 \u001b[38;5;241m=\u001b[39m \u001b[38;5;241m7\u001b[39m\n",
      "\u001b[1;31mNameError\u001b[0m: name 'Essraa' is not defined"
     ]
    }
   ],
   "source": [
    "print (\"Essraa\")\n",
    "\n",
    "name = Essraa\n",
    "print (name, \"Ahmed\")\n",
    "x1 = 7\n",
    "x2 = 3\n",
    "print (x1, x2)\n",
    "swtitch= True\n",
    "print (switch)\n",
    "\n",
    "\n",
    "\n",
    "\n"
   ]
  },
  {
   "cell_type": "code",
   "execution_count": 5,
   "metadata": {},
   "outputs": [
    {
     "ename": "NameError",
     "evalue": "name 'x1' is not defined",
     "output_type": "error",
     "traceback": [
      "\u001b[1;31m---------------------------------------------------------------------------\u001b[0m",
      "\u001b[1;31mNameError\u001b[0m                                 Traceback (most recent call last)",
      "Cell \u001b[1;32mIn[5], line 1\u001b[0m\n\u001b[1;32m----> 1\u001b[0m result \u001b[38;5;241m=\u001b[39m \u001b[43mx1\u001b[49m \u001b[38;5;241m+\u001b[39m x2\n\u001b[0;32m      2\u001b[0m \u001b[38;5;28mprint\u001b[39m (result)\n\u001b[0;32m      3\u001b[0m result \u001b[38;5;241m+\u001b[39m\u001b[38;5;241m=\u001b[39m \u001b[38;5;241m1\u001b[39m\n",
      "\u001b[1;31mNameError\u001b[0m: name 'x1' is not defined"
     ]
    }
   ],
   "source": [
    "result = x1 + x2\n",
    "print (result)\n",
    "result += 1\n",
    "print (result)\n",
    "result *= x1\n",
    "# this means the operations are done in sequence so the final result is after adding 1 and multiplying by 7 should give 77\n",
    "# this means we assigned a new value to the variable or overrwite it\n"
   ]
  },
  {
   "cell_type": "code",
   "execution_count": 4,
   "metadata": {},
   "outputs": [
    {
     "name": "stdout",
     "output_type": "stream",
     "text": [
      "13\n",
      "3354.0764\n"
     ]
    }
   ],
   "source": [
    "x = 3\n",
    "y = 10\n",
    "result = x*y\n",
    "result = x + y\n",
    "print (result)\n",
    "H = 245.54\n",
    "W = 13.66\n",
    "Area = H * W\n",
    "print (Area)\n",
    " "
   ]
  },
  {
   "cell_type": "markdown",
   "metadata": {},
   "source": [
    "Working with strings"
   ]
  },
  {
   "cell_type": "code",
   "execution_count": 8,
   "metadata": {},
   "outputs": [
    {
     "name": "stdout",
     "output_type": "stream",
     "text": [
      "John Smith\n"
     ]
    }
   ],
   "source": [
    "name = \"John\" + \" \" + \"Smith\"\n",
    "first_name = \"John\"\n",
    "Last_name = \"Smith\"\n",
    "full_name = first_name + \" \"  + Last_name\n",
    "print (full_name)\n"
   ]
  },
  {
   "cell_type": "code",
   "execution_count": 6,
   "metadata": {},
   "outputs": [
    {
     "name": "stdout",
     "output_type": "stream",
     "text": [
      "Hello John\n",
      "Hello John, you are 28 years old\n"
     ]
    }
   ],
   "source": [
    "name = \"John\"\n",
    "print(\"Hello {}\".format(name))\n",
    "print(\"Hello {}, you are {} years old\".format(name, 28))"
   ]
  },
  {
   "cell_type": "code",
   "execution_count": 9,
   "metadata": {},
   "outputs": [
    {
     "name": "stdout",
     "output_type": "stream",
     "text": [
      "E\n",
      "a\n",
      "s\n"
     ]
    }
   ],
   "source": [
    "name = \"Essraa\"\n",
    "print (name [0])\n",
    "print(name [-1])\n",
    "print(name [2])\n"
   ]
  },
  {
   "cell_type": "code",
   "execution_count": 10,
   "metadata": {},
   "outputs": [
    {
     "name": "stdout",
     "output_type": "stream",
     "text": [
      "Esa\n"
     ]
    }
   ],
   "source": [
    "name = \"Essraa\"\n",
    "print (name [0 :6 : 2])\n",
    "# this shd give me Esa"
   ]
  },
  {
   "cell_type": "code",
   "execution_count": 11,
   "metadata": {},
   "outputs": [
    {
     "name": "stdout",
     "output_type": "stream",
     "text": [
      "23 4.5 False John\n",
      "23, 4.5, False, \"John\"\n"
     ]
    }
   ],
   "source": [
    "# Exercises\n",
    "x = 23\n",
    "y = 4.5\n",
    "switch = False\n",
    "print (x, y, switch, \"John\")\n",
    "print ('{}, {}, {}, \"John\"'.format(x, y, switch))"
   ]
  },
  {
   "cell_type": "code",
   "execution_count": 16,
   "metadata": {},
   "outputs": [
    {
     "name": "stdout",
     "output_type": "stream",
     "text": [
      "Essraa's favorite sport is basketball\n",
      "Essraa is woroking on python programming!\n"
     ]
    }
   ],
   "source": [
    "#Exercise 2\n",
    "name = \"Essraa\"\n",
    "sport = \"basketball\"\n",
    "language = \"python\"\n",
    "print (\"{}'s favorite sport is {}\".format(name, sport))\n",
    "print ('{} is woroking on {} programming!'.format(name, language))"
   ]
  },
  {
   "cell_type": "markdown",
   "metadata": {},
   "source": [
    "Manipulating strings"
   ]
  },
  {
   "cell_type": "code",
   "execution_count": 17,
   "metadata": {},
   "outputs": [
    {
     "name": "stdout",
     "output_type": "stream",
     "text": [
      " Essraa Ahmed \n",
      " essraa ahmed \n",
      " ESSRAA AHMED \n",
      " Issraa ahmId \n",
      "8\n",
      "Issraa ahmId\n",
      "Issraa ahmId \n",
      " Issraa ahmId\n",
      "['', 'Issraa', 'ahmId', '']\n"
     ]
    }
   ],
   "source": [
    "name = \" essraa ahmed \"\n",
    "print (name.title())\n",
    "print (name.lower())\n",
    "print(name.upper())\n",
    "print (name.replace(\"e\", \"I\"))\n",
    "name = name.replace(\"e\", \"I\")\n",
    "print (name.find(\"ah\"))\n",
    "#this shd give 8\n",
    "print (name.strip())\n",
    "print ( name.lstrip())\n",
    "print(name.rstrip())\n",
    "print (name.split (\" \"))\n",
    "\n",
    "\n"
   ]
  },
  {
   "cell_type": "code",
   "execution_count": null,
   "metadata": {},
   "outputs": [
    {
     "name": "stdout",
     "output_type": "stream",
     "text": [
      "UPPERCASE\n",
      "$$ John Smith\n",
      "$$ John Smith\n"
     ]
    }
   ],
   "source": [
    "#Thursday Exercise 1\n",
    "word = \"uppercase\"\n",
    "print (word.upper())\n",
    "name = \"$$John Smith\"\n",
    "print(name.strip())\n",
    "print(name.lstrip())\n",
    "\n"
   ]
  },
  {
   "cell_type": "markdown",
   "metadata": {},
   "source": [
    "Friday project"
   ]
  },
  {
   "cell_type": "code",
   "execution_count": 23,
   "metadata": {},
   "outputs": [
    {
     "name": "stdout",
     "output_type": "stream",
     "text": [
      "**************************************************\n",
      "\t\tCoding Temple, Inc.\n",
      "\t\t 283 Franklin street\n",
      "\t\tBoston, Ma\n",
      "==================================================\n",
      "\tProduct Name\tProduct Price\n",
      "\tBooks\t\t$49.95\n",
      "\tComputer\t\t$579.99\n",
      "\tMonitor\t\t$124.89\n",
      "==================================================\n",
      "\t\t\t$754.83\n",
      "==================================================\n",
      "\n",
      "\t{}\n",
      " Thanks for shopping!\n"
     ]
    }
   ],
   "source": [
    "p1_name, p1_price = \"Books\", 49.95\n",
    "p2_name, p2_price = \"Computer\", 579.99\n",
    "p3_name, p3_price = \"Monitor\", 124.89\n",
    "company_name = \"Coding temple, Inc.\"\n",
    "company_address = \"283 Franklin street\"\n",
    "company_city = \"Boston, Ma\"\n",
    "message = \"Thanks for shopping!\"\n",
    "print (\"*\"*50)\n",
    "print ( \"\\t\\t{}\".format(company_name.title()))\n",
    "print ( \"\\t\\t {}\".format(company_address))\n",
    "print ( \"\\t\\t{}\".format(company_city))\n",
    "print (\"=\"*50)\n",
    "print (\"\\tProduct Name\\tProduct Price\")\n",
    "print(\"\\t{}\\t\\t${}\".format(p1_name.title(), p1_price))\n",
    "print(\"\\t{}\\t\\t${}\".format(p2_name.title(), p2_price))\n",
    "print(\"\\t{}\\t\\t${}\".format(p3_name.title(), p3_price))\n",
    "print(\"=\"*50)\n",
    "total = p1_price + p2_price + p3_price\n",
    "print(\"\\t\\t\\t${}\".format(total))\n",
    "print(\"=\"*50)\n",
    "print(\"\\n\\t{}\\n\",format(message))\n",
    "\n"
   ]
  }
 ],
 "metadata": {
  "kernelspec": {
   "display_name": "bootcamp",
   "language": "python",
   "name": "python3"
  },
  "language_info": {
   "codemirror_mode": {
    "name": "ipython",
    "version": 3
   },
   "file_extension": ".py",
   "mimetype": "text/x-python",
   "name": "python",
   "nbconvert_exporter": "python",
   "pygments_lexer": "ipython3",
   "version": "3.10.16"
  }
 },
 "nbformat": 4,
 "nbformat_minor": 2
}
