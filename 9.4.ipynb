{
 "cells": [
  {
   "cell_type": "code",
   "execution_count": 24,
   "id": "658d763c",
   "metadata": {},
   "outputs": [
    {
     "name": "stdout",
     "output_type": "stream",
     "text": [
      "The total cost for 5 apples is 6.5 dollars\n"
     ]
    }
   ],
   "source": [
    "price_apple= float(input(\"How much is an apple?\"))\n",
    "num_apple= int(input(\"How many apples?\"))               \n",
    "total_cost = price_apple * num_apple\n",
    "print(\"The total cost for {} apples is {} dollars\".format(num_apple, total_cost))                    "
   ]
  },
  {
   "cell_type": "code",
   "execution_count": 16,
   "id": "62a9dbd9",
   "metadata": {},
   "outputs": [
    {
     "name": "stdout",
     "output_type": "stream",
     "text": [
      " Hello, my name is Essraa and I am 30 years old\n"
     ]
    }
   ],
   "source": [
    "name =(input(\"what's ur name?\")).title()\n",
    "age = int(input(\"what's ur age?\"))\n",
    "print(\" Hello, my name is {} and I am {} years old\".format(name, age))"
   ]
  },
  {
   "cell_type": "code",
   "execution_count": 23,
   "id": "aaef3273",
   "metadata": {},
   "outputs": [
    {
     "name": "stdout",
     "output_type": "stream",
     "text": [
      "<class 'str'>\n",
      "<class 'int'>\n",
      "<class 'float'>\n",
      "<class 'bool'>\n",
      "True\n"
     ]
    }
   ],
   "source": [
    "greeting= \"Hi\"\n",
    "year_born= int(input(\"year?\"))\n",
    "height= float(input(\"height?\"))\n",
    "is_student=bool(\"0\")\n",
    "print(type(greeting))\n",
    "print(type(year_born))\n",
    "print(type(height))\n",
    "print(type(is_student))\n",
    "print(is_student)"
   ]
  }
 ],
 "metadata": {
  "kernelspec": {
   "display_name": "bootcamp",
   "language": "python",
   "name": "python3"
  },
  "language_info": {
   "codemirror_mode": {
    "name": "ipython",
    "version": 3
   },
   "file_extension": ".py",
   "mimetype": "text/x-python",
   "name": "python",
   "nbconvert_exporter": "python",
   "pygments_lexer": "ipython3",
   "version": "3.10.16"
  }
 },
 "nbformat": 4,
 "nbformat_minor": 5
}
