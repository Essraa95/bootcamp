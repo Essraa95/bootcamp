{
 "cells": [
  {
   "cell_type": "code",
   "execution_count": null,
   "id": "a20c8c8c",
   "metadata": {},
   "outputs": [
    {
     "name": "stdout",
     "output_type": "stream",
     "text": [
      "username invalid\n",
      "Login successful\n"
     ]
    }
   ],
   "source": [
    "# challenge#3\n",
    "username = input(\"username?\").lower\n",
    "if username==\"admin\":\n",
    "    print(input(\"password?\")) \n",
    "else:\n",
    "    print(\"username invalid\") \n",
    "    if password==123:\n",
    "        print(\"Login successful\")\n",
    "    else:\n",
    "        print(\" Invalid password\")\n",
    "                            # put try and except statements"
   ]
  },
  {
   "cell_type": "code",
   "execution_count": null,
   "id": "43ffcdf4",
   "metadata": {},
   "outputs": [
    {
     "name": "stdout",
     "output_type": "stream",
     "text": [
      "30\n"
     ]
    }
   ],
   "source": [
    "#Challnge #1\n",
    "age = input(\"what's ur age?\")\n",
    "print (age)\n",
    "if age >=18:\n",
    "    print(\" u r an adult\")\n",
    "else:\n"
   ]
  },
  {
   "cell_type": "code",
   "execution_count": null,
   "id": "15f9dbab",
   "metadata": {},
   "outputs": [],
   "source": [
    "password learninpythonisfun\n"
   ]
  }
 ],
 "metadata": {
  "kernelspec": {
   "display_name": "bootcamp",
   "language": "python",
   "name": "python3"
  },
  "language_info": {
   "codemirror_mode": {
    "name": "ipython",
    "version": 3
   },
   "file_extension": ".py",
   "mimetype": "text/x-python",
   "name": "python",
   "nbconvert_exporter": "python",
   "pygments_lexer": "ipython3",
   "version": "3.10.16"
  }
 },
 "nbformat": 4,
 "nbformat_minor": 5
}
