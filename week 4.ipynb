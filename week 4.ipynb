{
 "cells": [
  {
   "cell_type": "code",
   "execution_count": null,
   "id": "a20c8c8c",
   "metadata": {},
   "outputs": [
    {
     "name": "stdout",
     "output_type": "stream",
     "text": [
      " Invalid password\n"
     ]
    }
   ],
   "source": [
    "# challenge#3 # nested stataement example\n",
    "\n",
    "username = input(\"username?\").lower()\n",
    "if username == \"admin\":\n",
    "    password = int(input(\"password?\"))\n",
    "    if password==123:    # Nested\n",
    "        print(\"Login successful\")\n",
    "    else:\n",
    "        print(\" Invalid password\")\n",
    "else:\n",
    "    print(\"username invalid\") "
   ]
  },
  {
   "cell_type": "code",
   "execution_count": 16,
   "id": "43ffcdf4",
   "metadata": {},
   "outputs": [
    {
     "name": "stdout",
     "output_type": "stream",
     "text": [
      "u r not eligible for the loan\n"
     ]
    }
   ],
   "source": [
    "#Challnge #4\n",
    "age = int(input(\"what's ur age?\"))\n",
    "income = float(input(\"what's ur income\"))\n",
    "\n",
    "if age >=18 and income> 50000:\n",
    "    print(\" u r eligible for the loan\")\n",
    "else:\n",
    "    print(\"u r not eligible for the loan\")\n"
   ]
  },
  {
   "cell_type": "code",
   "execution_count": 24,
   "id": "15f9dbab",
   "metadata": {},
   "outputs": [
    {
     "name": "stdout",
     "output_type": "stream",
     "text": [
      "invalid input. plz enter a valid number\n"
     ]
    }
   ],
   "source": [
    "#challenge#5 error handling\n",
    "age = input(\"what is your age?\")\n",
    "try:\n",
    "    age = int(age)\n",
    "    if age > 0 and age < 120:\n",
    "        print(\"valid age\")\n",
    "    else:\n",
    "        print(\"Age out of range\")\n",
    "except:\n",
    "    print(\"invalid input. plz enter a valid number\")\n",
    "\n",
    "\n"
   ]
  }
 ],
 "metadata": {
  "kernelspec": {
   "display_name": "bootcamp",
   "language": "python",
   "name": "python3"
  },
  "language_info": {
   "codemirror_mode": {
    "name": "ipython",
    "version": 3
   },
   "file_extension": ".py",
   "mimetype": "text/x-python",
   "name": "python",
   "nbconvert_exporter": "python",
   "pygments_lexer": "ipython3",
   "version": "3.10.16"
  }
 },
 "nbformat": 4,
 "nbformat_minor": 5
}
