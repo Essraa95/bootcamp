{
 "cells": [
  {
   "cell_type": "markdown",
   "id": "ef2ae9b7",
   "metadata": {},
   "source": [
    "Lists"
   ]
  },
  {
   "cell_type": "code",
   "execution_count": null,
   "id": "8d418717",
   "metadata": {},
   "outputs": [
    {
     "name": "stdout",
     "output_type": "stream",
     "text": [
      "[1, 3, 5, 7]\n",
      "1\n",
      "7\n",
      "[7.1, 'Essraa', True]\n",
      "[4, ['HI', 'Katy'], False]\n",
      "['HI', 'Katy']\n",
      "HI\n",
      "Katy\n",
      "[100, 102, 78, 112]\n",
      "[100, 102, 83, 112]\n",
      "1801442896064\n",
      "a: [5, 10]\t b:[5, 10]\n",
      "Location a[0]: \t Location b[0]:\n",
      "data: [50, 10, 15, 20]\t data_copy: [5, 10, 15, 20]\n"
     ]
    }
   ],
   "source": [
    "# declaring a list of numbers\n",
    "nums = [1, 3, 5, 7] \n",
    "print (nums)\n",
    "# accessing elements within a list\n",
    "print(nums[0])\n",
    "fav = nums [3]\n",
    "print (fav)\n",
    "# declaring a list of mixed data types\n",
    "num = 7.1\n",
    "data = [num, \"Essraa\", True]\n",
    "print(data)\n",
    "# understanding lists within lists\n",
    "new_list = [4, [\"HI\", \"Katy\"], False]\n",
    "print(new_list)\n",
    "print (new_list [1])\n",
    "# using double bracket notation to access lists within lists\n",
    "print(new_list[1][0])\n",
    "inner_list = new_list[1]\n",
    "print(inner_list[1])\n",
    "# changing values in a list through index\n",
    "grades =[100, 102, 78, 112]\n",
    "print(grades)\n",
    "grades [2]=83\n",
    "print(grades)\n",
    "a =[5,10]\n",
    "print(id(a)) # the printed large number represents location in memory\n",
    "b = a\n",
    "print(\"a: {}\\t b:{}\".format(a,b))\n",
    "print(\"Location a[0]: \\t Location b[0]:\".format(id(a[0]),id(b[0])))\n",
    "# using [:] to copy a list\n",
    "data = [5, 10, 15, 20]\n",
    "data_copy = data [:]  # a single colon copies the list so that when we change sth in the original, the copy doesn't change\n",
    "data [0] = 50\n",
    "print(\"data: {}\\t data_copy: {}\".format(data, data_copy))\n"
   ]
  },
  {
   "cell_type": "markdown",
   "id": "9bfc313d",
   "metadata": {},
   "source": [
    "#Monday exercises\n"
   ]
  },
  {
   "cell_type": "code",
   "execution_count": 25,
   "id": "32bc2983",
   "metadata": {},
   "outputs": [
    {
     "name": "stdout",
     "output_type": "stream",
     "text": [
      "I like to play football\n",
      "J, A, S,K\n"
     ]
    }
   ],
   "source": [
    "sports=[\"football\", \"basketball\", \"tennis\"]\n",
    "print(\"I like to play {}\".format(sports[0]))\n",
    "names = [\"John\", \"Abraham\", \"Sam\", \"Kelly\"]\n",
    "print(\"{}, {}, {},{}\".format(names[0][0], names [1][0], names[2][0], names[3][0]))"
   ]
  },
  {
   "cell_type": "markdown",
   "id": "be06788a",
   "metadata": {},
   "source": [
    "For loops"
   ]
  },
  {
   "cell_type": "code",
   "execution_count": null,
   "id": "79574f40",
   "metadata": {},
   "outputs": [
    {
     "name": "stdout",
     "output_type": "stream",
     "text": [
      "Value: 0\n",
      "Value: 1\n",
      "Value: 2\n",
      "Value: 3\n",
      "Value: 4\n",
      "Value: 2\n",
      "Value: 4\n",
      "Value: 6\n",
      "Value: 8\n",
      "Value:  \n",
      "Value: E\n",
      "Value: s\n",
      "Value: s\n",
      "Value: r\n",
      "Value: a\n",
      "Value: a\n",
      "Value:  \n",
      "Value: A\n",
      "Value: m\n",
      "Value: e\n",
      "Value: d\n",
      "value: 0\n",
      "value: 1\n",
      "value: 2\n",
      "value: 4\n",
      "value: 0\n",
      "value: 1\n",
      "value: 2\n"
     ]
    }
   ],
   "source": [
    "# writing your first for loop using range\n",
    "for num in range(5):\n",
    "    print (\"Value: {}\".format(num))\n",
    "# providing the start, stop, and step for the range function\n",
    "for num in range (2,10,2):\n",
    "    print(\"Value: {}\".format(num))\n",
    "# printing all characters in a name using the 'in' keyword\n",
    "name = \" Essraa Ahmed\"\n",
    "for letter in name:\n",
    "    if letter == \"h\":\n",
    "        continue\n",
    "    print (\"Value: {}\".format(letter))\n",
    "# using the continue statement within a foor loop\n",
    "for num in range(5):\n",
    "    if num == 3:\n",
    "        continue    # continue ststement is used to stop the iteration and skip at this value \n",
    "    print(\"value: {}\".format(num))\n",
    "# breaking out of a loop using the 'break' keyword\n",
    "for num in range(5):\n",
    "    if num == 3:\n",
    "        break\n",
    "    print(\"value: {}\".format(num))\n",
    "# setting a placeholder using the 'pass' keyword\n",
    "for num in range(5):\n",
    "    # ToDo: add code to print number\n",
    "    pass   # just like pass in kotchina, it's used to stop the program and not break if the code is not yet ready\n"
   ]
  },
  {
   "cell_type": "markdown",
   "id": "ec39ad77",
   "metadata": {},
   "source": [
    "Exercises"
   ]
  },
  {
   "cell_type": "code",
   "execution_count": 18,
   "id": "5ec9d234",
   "metadata": {},
   "outputs": [
    {
     "name": "stdout",
     "output_type": "stream",
     "text": [
      "value: 3\n",
      "value: 6\n",
      "value: 9\n",
      "value: 12\n",
      "value: 15\n",
      "value: 18\n",
      "value: 21\n",
      "value: 24\n",
      "value: 27\n",
      "value: 30\n",
      "value: 33\n",
      "value: 36\n",
      "value: 39\n",
      "value: 42\n",
      "value: 45\n",
      "value: 48\n",
      "value: 51\n",
      "value: 54\n",
      "value: 57\n",
      "value: 60\n",
      "value: 63\n",
      "value: 66\n",
      "value: 69\n",
      "value: 72\n",
      "value: 75\n",
      "value: 78\n",
      "value: 81\n",
      "value: 84\n",
      "value: 87\n",
      "value: 90\n",
      "value: 93\n",
      "value: 96\n",
      "value: 99\n"
     ]
    }
   ],
   "source": [
    "# num1\n",
    "for num in range (1,101):\n",
    "    if num % 3 ==0:\n",
    "        print(\"value: {}\".format(num))"
   ]
  },
  {
   "cell_type": "code",
   "execution_count": 32,
   "id": "0aab55d6",
   "metadata": {},
   "outputs": [
    {
     "name": "stdout",
     "output_type": "stream",
     "text": [
      "truncated_word is o\n"
     ]
    }
   ],
   "source": [
    "#exercise 2\n",
    "word = input(\"write a word\")\n",
    "for letter in word:\n",
    "    if letter not in \"aeiou\" :\n",
    "        continue\n",
    "    print(\"truncated_word is {}\".format(letter))"
   ]
  },
  {
   "cell_type": "markdown",
   "id": "9eb45fd7",
   "metadata": {},
   "source": [
    "While loops wednesday"
   ]
  },
  {
   "cell_type": "code",
   "execution_count": 7,
   "id": "53c37c57",
   "metadata": {},
   "outputs": [
    {
     "name": "stdout",
     "output_type": "stream",
     "text": [
      "10\n",
      "9\n",
      "8\n",
      "7\n",
      "6\n",
      "5\n",
      "4\n",
      "3\n",
      "2\n",
      "1\n",
      "0 0\n",
      "0 1\n",
      "0 2\n",
      "1 0\n",
      "1 1\n",
      "1 2\n"
     ]
    }
   ],
   "source": [
    "# writing your first while loop\n",
    "health = 10\n",
    "while health > 0:\n",
    "    print (health)  # it means the code well ruin until the condition is met\n",
    "    health-=1  # without this line it continues to print 10 to the infinity\n",
    "# using two or more loops together is called a nested loop\n",
    "for i in range(2):\n",
    "    for j in range(3):\n",
    "        print (i, j)"
   ]
  },
  {
   "cell_type": "code",
   "execution_count": 12,
   "id": "816d9ebc",
   "metadata": {},
   "outputs": [
    {
     "name": "stdout",
     "output_type": "stream",
     "text": [
      "quit\n"
     ]
    }
   ],
   "source": [
    "#wednesday exercises\n",
    "user= input(\"write sth\")\n",
    "while user:\n",
    "    print (user)\n",
    "    if user == \"quit\":\n",
    "        break\n",
    "\n"
   ]
  },
  {
   "cell_type": "code",
   "execution_count": 20,
   "id": "0489fcc6",
   "metadata": {},
   "outputs": [
    {
     "name": "stdout",
     "output_type": "stream",
     "text": [
      "0\n",
      "1\n",
      "2\n"
     ]
    }
   ],
   "source": [
    "game_over = True\n",
    "while game_over:\n",
    "    for i in range(6):\n",
    "        if i == 3:\n",
    "            game_over = False\n",
    "            break\n",
    "        print (i)\n"
   ]
  },
  {
   "cell_type": "markdown",
   "id": "6e764a61",
   "metadata": {},
   "source": [
    "working with lists"
   ]
  },
  {
   "cell_type": "code",
   "execution_count": null,
   "id": "b3321681",
   "metadata": {},
   "outputs": [
    {
     "name": "stdout",
     "output_type": "stream",
     "text": [
      "3\n",
      "[1, 2]\n",
      "[0, 2]\n",
      "[1, 2]\n",
      "[10, 20, 25, 9]\n",
      "['scissors', 'rock', 'paper']\n",
      "['scissors', 'rock']\n",
      "rock \n",
      " ['scissors']\n",
      "['kiwi', 'apple']\n"
     ]
    }
   ],
   "source": [
    "# checking the number of items within a list\n",
    "nums = [0, 1,2]\n",
    "length = len(nums)\n",
    "print(length)\n",
    "# accessing specific items of a list with slices\n",
    "print (nums[1:3])  # bakteb esm ellist  w ben qosen [start: stop: step]\n",
    "print( nums[ : : 2 ] ) # will print every other index - 0, 2, 4, etc.\n",
    "print( nums[ -2 : ] ) # will output the last two items in list\n",
    "# adding an item to the back of a list using append\n",
    "nums = [10,20,25]\n",
    "nums.append(9)\n",
    "print(nums)\n",
    "# adding a value to a specific location of the list\n",
    "stuff =[\"rock\", \"paper\"]\n",
    "stuff.insert(0, \"scissors\") # first number is the index, second is the value\n",
    "print(stuff)\n",
    "# using pop to remove items and saving to a variable to use later\n",
    "stuff.pop() # by default removes the last item except when u specify an index\n",
    "print(stuff)\n",
    "removed_item = stuff.pop() # u can sore the removed item into a variable\n",
    "print(removed_item,\"\\n\", stuff) # \\n means hit enter\n",
    "# using the remove method with a try and except unlike pop, remove deletesa specific value not index\n",
    "food = [\"kiwi\", \"apple\", \"beans\"]\n",
    "try:\n",
    "    food.remove(\"beans\")\n",
    "except:\n",
    "    Print(\"the item is not a food\") #Now the reason why we use a try and except with the removal is because if “beans” didn’t exist in the list, then the program would crash.\n",
    "print(food)"
   ]
  },
  {
   "cell_type": "code",
   "execution_count": null,
   "id": "2aa3c36a",
   "metadata": {},
   "outputs": [
    {
     "name": "stdout",
     "output_type": "stream",
     "text": [
      "3\n",
      "9\n",
      "17\n",
      "[5, 8, 0, 2] [0, 2, 5, 8]\n",
      "[0, 3, 5, 8]\n"
     ]
    }
   ],
   "source": [
    "# using min, max, and sum\n",
    "nums = [5, 3, 9]\n",
    "print( min(nums) ) # will find the lowest number in the list\n",
    "print( max(nums) ) # will find the highest number in the list\n",
    "print( sum(nums) ) # will add all numbers in the list and return the sum\n",
    "# using sorted on lists for numerical and alphabetical data 3shan yratebaha mn elow ll high\n",
    "nums = [5, 8, 0, 2]\n",
    "sorted_nums = sorted(nums) # save to a new variable to use later\n",
    "print(nums, sorted_nums) # the original list is in tact\n",
    "# sorting a list with .sort() in-place\n",
    "nums = [5, 0, 8, 3]\n",
    "nums.sort( ) # alters the original variable directly unlike sorted()\n",
    "print(nums)"
   ]
  },
  {
   "cell_type": "code",
   "execution_count": null,
   "id": "0eb868e7",
   "metadata": {},
   "outputs": [],
   "source": [
    "#thursady exercises\n",
    "names = [\"Bob\", \"Kenny\", \"Amanda\", \"Bob\", \"Amanda\"]\n"
   ]
  }
 ],
 "metadata": {
  "kernelspec": {
   "display_name": "bootcamp",
   "language": "python",
   "name": "python3"
  },
  "language_info": {
   "codemirror_mode": {
    "name": "ipython",
    "version": 3
   },
   "file_extension": ".py",
   "mimetype": "text/x-python",
   "name": "python",
   "nbconvert_exporter": "python",
   "pygments_lexer": "ipython3",
   "version": "3.10.16"
  }
 },
 "nbformat": 4,
 "nbformat_minor": 5
}
