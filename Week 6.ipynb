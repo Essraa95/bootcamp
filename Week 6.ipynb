{
 "cells": [
  {
   "cell_type": "code",
   "execution_count": null,
   "id": "aeb92d7e",
   "metadata": {},
   "outputs": [
    {
     "name": "stdout",
     "output_type": "stream",
     "text": [
      "1\n"
     ]
    }
   ],
   "source": [
    "\n",
    "def factorial(n): #defining the function\n",
    "    if n == 0 or n == 1: # check if the parameter is 0 or 1\n",
    "        return 1\n",
    "    else: \n",
    "        return n* factorial(n-1)\n",
    "\n",
    "n = int((input(\"Enter a non-negative integer: \")))\n",
    "if n < 0: \n",
    "    print(\"Please enter a NON-Negative integer\")\n",
    "else:\n",
    "    result = factorial(n) # store the resultreturn statement in a new variable\n",
    "    print(result)\n",
    "\n",
    "\n"
   ]
  },
  {
   "cell_type": "code",
   "execution_count": null,
   "id": "90eee782",
   "metadata": {},
   "outputs": [
    {
     "name": "stdout",
     "output_type": "stream",
     "text": [
      "<function factorial at 0x000002013DB86440>\n"
     ]
    }
   ],
   "source": []
  }
 ],
 "metadata": {
  "kernelspec": {
   "display_name": "bootcamp",
   "language": "python",
   "name": "python3"
  },
  "language_info": {
   "codemirror_mode": {
    "name": "ipython",
    "version": 3
   },
   "file_extension": ".py",
   "mimetype": "text/x-python",
   "name": "python",
   "nbconvert_exporter": "python",
   "pygments_lexer": "ipython3",
   "version": "3.10.16"
  }
 },
 "nbformat": 4,
 "nbformat_minor": 5
}
