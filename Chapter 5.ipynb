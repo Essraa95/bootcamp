{
 "cells": [
  {
   "cell_type": "markdown",
   "id": "66dd825d",
   "metadata": {},
   "source": [
    "“Creating & Calling Functions”"
   ]
  },
  {
   "cell_type": "code",
   "execution_count": 5,
   "id": "e2925a6e",
   "metadata": {},
   "outputs": [
    {
     "name": "stdout",
     "output_type": "stream",
     "text": [
      "Name: Essraa\n",
      "age: 30\n",
      "Name: Essraa\n",
      "age: 30\n"
     ]
    }
   ],
   "source": [
    "# writing your first function\n",
    "def printinfo():    # the name of the function defines what the function does when called\n",
    "    print(\"Name: Essraa\")\n",
    "    print(\"age: 30\")\n",
    "printinfo()   # calls the function to run\n",
    "printinfo()   # calls the function again\n",
    "\n"
   ]
  },
  {
   "cell_type": "code",
   "execution_count": null,
   "id": "772b2a5b",
   "metadata": {},
   "outputs": [
    {
     "name": "stdout",
     "output_type": "stream",
     "text": [
      "15\n"
     ]
    }
   ],
   "source": [
    "# performing a calculation in a function\n",
    "def calc():\n",
    "    x, y = 5, 10\n",
    "    print(x+y)\n",
    "calc()   # will run the block of code within calc and output 15. without it, the code doesn't run\n",
    "\n"
   ]
  },
  {
   "cell_type": "code",
   "execution_count": 10,
   "id": "73d9e59a",
   "metadata": {},
   "outputs": [
    {
     "name": "stdout",
     "output_type": "stream",
     "text": [
      "Essraa\n",
      "Chicken Shrimp Tuna\n",
      "Chicken Shrimp Tuna\n",
      "Chicken Shrimp Tuna\n"
     ]
    }
   ],
   "source": [
    "#Monday exercises\n",
    "def MyNAME():\n",
    "    print(\"Essraa\")\n",
    "MyNAME()\n",
    "\n",
    "def pizzaToppings():\n",
    "    print(\"Chicken\", \"Shrimp\", \"Tuna\")\n",
    "pizzaToppings()\n",
    "pizzaToppings()\n",
    "pizzaToppings()\n"
   ]
  },
  {
   "cell_type": "markdown",
   "id": "ca9a3d31",
   "metadata": {},
   "source": [
    "Parameters"
   ]
  },
  {
   "cell_type": "code",
   "execution_count": 13,
   "id": "2e0c0a75",
   "metadata": {},
   "outputs": [
    {
     "name": "stdout",
     "output_type": "stream",
     "text": [
      "Hi Essraa\n",
      "Hi Nada\n",
      "6 + 7 = 13\n",
      "1 + 3 = 4\n"
     ]
    }
   ],
   "source": [
    "# passing a single parameter into a function\n",
    "def printName (name): # what's between parenthesis is called a parameter\n",
    "    print(\"Hi {}\".format(name))\n",
    "printName(\"Essraa\") # inserted an argument when calling the function\n",
    "printName(\"Nada\")\n",
    "# passing multiple parameters into a function\n",
    "def AddNums(num1, num2):\n",
    "    result= num1+num2\n",
    "    print(\"{} + {} = {}\".format(num1, num2, result))\n",
    "AddNums(6, 7)\n",
    "AddNums(1, 3)"
   ]
  },
  {
   "cell_type": "code",
   "execution_count": 15,
   "id": "47c7eae6",
   "metadata": {},
   "outputs": [
    {
     "name": "stdout",
     "output_type": "stream",
     "text": [
      "1\n",
      "9\n",
      "25\n",
      "49\n",
      "4\n",
      "16\n",
      "36\n",
      "64\n"
     ]
    }
   ],
   "source": [
    "# using a function to square all information\n",
    "Set1 = [1,3,5,7]\n",
    "set2 = [2,4,6,8]\n",
    "\n",
    "def squares(numbers):\n",
    "    for i in numbers:\n",
    "        print(i**2)\n",
    "squares(Set1)\n",
    "squares(set2)"
   ]
  },
  {
   "cell_type": "code",
   "execution_count": null,
   "id": "de25ab3f",
   "metadata": {},
   "outputs": [
    {
     "name": "stdout",
     "output_type": "stream",
     "text": [
      "Area is 78.5\n",
      "Essraa Ahmed\n",
      "Essraa Hassan Ahmed\n"
     ]
    }
   ],
   "source": [
    "# setting default parameter values\n",
    "def area(r, pi = 3.14):\n",
    "    area= pi * (r**2)\n",
    "    print(\"Area is {}\".format(area))\n",
    "area(5)\n",
    "#Making Parameters Optional\n",
    "def Fullname (first, last , middle=\"\"): # create an empty string with = sign to make it optional\n",
    "    if middle:\n",
    "        print(\"{} {} {}\".format(first, middle , last ))\n",
    "    else:\n",
    "        print(\"{} {}\". format(first, last))\n",
    "Fullname(\"Essraa\", \"Ahmed\")\n",
    "Fullname (\"Essraa\", \"Ahmed\", \"Hassan\")"
   ]
  },
  {
   "cell_type": "code",
   "execution_count": 26,
   "id": "410ddbc0",
   "metadata": {},
   "outputs": [
    {
     "name": "stdout",
     "output_type": "stream",
     "text": [
      "2.5\n",
      "5\n"
     ]
    }
   ],
   "source": [
    "# explicity assigning values to parameters by referencing the name\n",
    "def addNums(num1, num2):\n",
    "    print(num2)\n",
    "    print(num1)\n",
    "addNums(5, num2 = 2.5)"
   ]
  },
  {
   "cell_type": "code",
   "execution_count": 33,
   "id": "edb20d52",
   "metadata": {},
   "outputs": [
    {
     "name": "stdout",
     "output_type": "stream",
     "text": [
      "<class 'tuple'>\n",
      "5\n",
      "<class 'tuple'>\n",
      "True\n"
     ]
    }
   ],
   "source": [
    "# using args parameter to take in a tuple of arbitrary values\n",
    "def outputData (name, *args):\n",
    "    for arg in args:\n",
    "        print(type(args))\n",
    "        print(arg)\n",
    "outputData (\"Essraa\", 5, True)"
   ]
  },
  {
   "cell_type": "code",
   "execution_count": 34,
   "id": "f2a51dd5",
   "metadata": {},
   "outputs": [
    {
     "name": "stdout",
     "output_type": "stream",
     "text": [
      "<class 'dict'>\n",
      "John Smith\n",
      "5\n"
     ]
    }
   ],
   "source": [
    "# using kwargs parameter to take in a dictionary of arbitrary values\n",
    "def outputData(**kwargs):\n",
    "    print( type(kwargs) )\n",
    "    print( kwargs[ \"name\" ] )\n",
    "    print( kwargs[ \"num\" ] )\n",
    "outputData(name = \"John Smith\", num = 5, b = True)"
   ]
  },
  {
   "cell_type": "markdown",
   "id": "8c497d62",
   "metadata": {},
   "source": [
    "Return statement"
   ]
  },
  {
   "cell_type": "code",
   "execution_count": null,
   "id": "673469ce",
   "metadata": {},
   "outputs": [
    {
     "name": "stdout",
     "output_type": "stream",
     "text": [
      "10\n",
      "10\n"
     ]
    }
   ],
   "source": [
    "# using return keyword to return the sum of two numbers\n",
    "def addNums(num1, num2):\n",
    "    return num1+ num2\n",
    "num = addNums(5,5)  # is used to save the returned value into a variable\n",
    "print(num)\n",
    "print(addNums(5,5)) # doesn't save the retrurned value"
   ]
  },
  {
   "cell_type": "code",
   "execution_count": null,
   "id": "bd7fcaff",
   "metadata": {},
   "outputs": [
    {
     "name": "stdout",
     "output_type": "stream",
     "text": [
      "False\n"
     ]
    }
   ],
   "source": [
    "# shorthand syntax using a ternary operator\n",
    "def searchList (alist, el):\n",
    "    return True if el in alist else False\n",
    "result= searchList(['one', 5], 3) # taht new variable should refernce the function name\n",
    "print(result)\n",
    "    "
   ]
  },
  {
   "cell_type": "code",
   "execution_count": null,
   "id": "628ed3ed",
   "metadata": {},
   "outputs": [
    {
     "name": "stdout",
     "output_type": "stream",
     "text": [
      "Essraa Hassan\n",
      "Essraa Hassan\n"
     ]
    }
   ],
   "source": [
    "#wednesday exercises\n",
    "def fullName (firstname, lastname):\n",
    "    return \"Essraa\" + \" \" + \"Hassan\"\n",
    "Joinedname = fullName(\"Essraa\", \"Hassan\")\n",
    "\n",
    "print(Joinedname)"
   ]
  },
  {
   "cell_type": "code",
   "execution_count": null,
   "id": "0f0d156e",
   "metadata": {},
   "outputs": [
    {
     "name": "stdout",
     "output_type": "stream",
     "text": [
      "jacj\n"
     ]
    }
   ],
   "source": [
    "user= input(\"Enter ur name\")\n",
    "def urname (name): # between parenthesis put the parameter which is close to the function name\n",
    "    return name  # return ststement with the parameter name\n",
    "variable = urname(user) # make a new variable with thjje function name and the parameter i'd like to print in between\n",
    "print(variable)\n"
   ]
  }
 ],
 "metadata": {
  "kernelspec": {
   "display_name": "bootcamp",
   "language": "python",
   "name": "python3"
  },
  "language_info": {
   "codemirror_mode": {
    "name": "ipython",
    "version": 3
   },
   "file_extension": ".py",
   "mimetype": "text/x-python",
   "name": "python",
   "nbconvert_exporter": "python",
   "pygments_lexer": "ipython3",
   "version": "3.10.16"
  }
 },
 "nbformat": 4,
 "nbformat_minor": 5
}
