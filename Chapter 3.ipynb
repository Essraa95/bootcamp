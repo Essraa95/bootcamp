{
 "cells": [
  {
   "cell_type": "code",
   "execution_count": 3,
   "metadata": {},
   "outputs": [
    {
     "name": "stdout",
     "output_type": "stream",
     "text": [
      "football is my fav sport\n"
     ]
    }
   ],
   "source": [
    "element = \"football\"\n",
    "print (\"{} is my fav sport\".format(element))\n"
   ]
  },
  {
   "cell_type": "markdown",
   "metadata": {},
   "source": [
    "User input and type conversion"
   ]
  },
  {
   "cell_type": "code",
   "execution_count": 10,
   "metadata": {},
   "outputs": [
    {
     "name": "stdout",
     "output_type": "stream",
     "text": [
      "Essraa\n"
     ]
    }
   ],
   "source": [
    "#accepting and outputting user input\n",
    "print( input(\"What is your name?\"))\n"
   ]
  },
  {
   "cell_type": "code",
   "execution_count": null,
   "metadata": {},
   "outputs": [
    {
     "name": "stdout",
     "output_type": "stream",
     "text": [
      "Hi Essraa!\n"
     ]
    }
   ],
   "source": [
    "#saving user input as a variable\n",
    "ans = input(\"What's ur name? \")\n",
    "print(\"Hi {}!\".format(ans))"
   ]
  },
  {
   "cell_type": "code",
   "execution_count": 11,
   "metadata": {},
   "outputs": [
    {
     "name": "stdout",
     "output_type": "stream",
     "text": [
      "<class 'int'>\n"
     ]
    }
   ],
   "source": [
    "# how to check data type\n",
    "num =5\n",
    "print(type(num))"
   ]
  },
  {
   "cell_type": "code",
   "execution_count": null,
   "metadata": {},
   "outputs": [
    {
     "name": "stdout",
     "output_type": "stream",
     "text": [
      "<class 'int'>\n"
     ]
    }
   ],
   "source": [
    "# converting variables from one data type to another\n",
    "num =\"9\" \n",
    "num = int(num)  # re-declaring num to store an integer\n",
    "\n",
    "print(type(num))  # checking type to make sure conversion worked"
   ]
  },
  {
   "cell_type": "code",
   "execution_count": 15,
   "metadata": {},
   "outputs": [
    {
     "name": "stdout",
     "output_type": "stream",
     "text": [
      "<class 'str'>\n",
      "105\n",
      "100 + 5 = 105\n"
     ]
    }
   ],
   "source": [
    "# working with user input to perform calculations\n",
    "ans= input(\"Type a number to add: \")\n",
    "print (type(ans))\n",
    "result = 100+ int(ans)\n",
    "print(result)\n",
    "print (\"100 + {} = {}\".format(ans,result))"
   ]
  },
  {
   "cell_type": "code",
   "execution_count": 20,
   "metadata": {},
   "outputs": [
    {
     "name": "stdout",
     "output_type": "stream",
     "text": [
      "u didn't input a valid number!\n"
     ]
    }
   ],
   "source": [
    "# using the try and except blocks, use tab to indent where necessary\n",
    "try:\n",
    " ans = float(input(\"Type a number to add:\"))\n",
    " print (\"100 + {} = {}\".format(ans, 100+ans))\n",
    "except:\n",
    " print(\"u didn't input a valid number!\")"
   ]
  },
  {
   "cell_type": "code",
   "execution_count": null,
   "metadata": {},
   "outputs": [
    {
     "name": "stdout",
     "output_type": "stream",
     "text": [
      "<class 'bool'>\n",
      "5\n",
      "3\n",
      "11\n"
     ]
    }
   ],
   "source": [
    "#Monday exercises\n",
    "word= \"True\"\n",
    "word=bool(word)   # need to re-identify it as a variable\n",
    "print(type(word))\n",
    "\n",
    "print(input(\"what's ur fav no.?\"))\n",
    "print(input(\"Whatu's ur hateful no?\"))\n",
    "answerE  = input(\"what's ur fav no.?\")\n",
    "answer  = input(\"Whatu's ur hateful no?\")\n",
    "answerE = int(answerE)\n",
    "answer = int(answer)\n",
    "newanswer = answerE + answer\n",
    "print (newanswer)\n"
   ]
  },
  {
   "cell_type": "code",
   "execution_count": 42,
   "metadata": {},
   "outputs": [
    {
     "name": "stdout",
     "output_type": "stream",
     "text": [
      "2021 Optra Blue\n"
     ]
    }
   ],
   "source": [
    "# Monday cont.\n",
    "print(input(\"Year\"), input(\"Model\"), input(\"color\"))\n"
   ]
  }
 ],
 "metadata": {
  "kernelspec": {
   "display_name": "bootcamp",
   "language": "python",
   "name": "python3"
  },
  "language_info": {
   "codemirror_mode": {
    "name": "ipython",
    "version": 3
   },
   "file_extension": ".py",
   "mimetype": "text/x-python",
   "name": "python",
   "nbconvert_exporter": "python",
   "pygments_lexer": "ipython3",
   "version": "3.10.16"
  }
 },
 "nbformat": 4,
 "nbformat_minor": 2
}
