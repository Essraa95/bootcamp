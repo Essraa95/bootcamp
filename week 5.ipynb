{
 "cells": [
  {
   "cell_type": "code",
   "execution_count": 4,
   "id": "466e4839",
   "metadata": {},
   "outputs": [
    {
     "name": "stdout",
     "output_type": "stream",
     "text": [
      "7.0\n",
      "7.0\n",
      "7.0\n"
     ]
    }
   ],
   "source": [
    "#challenge1\n",
    "elements= [float(input(\"enter number1\")), float(input(\"enter number 2\")), float(input(\"enter number 3\"))]\n",
    "for number in elements:\n",
    "    print(sum(elements))\n"
   ]
  },
  {
   "cell_type": "code",
   "execution_count": null,
   "id": "aff885c8",
   "metadata": {},
   "outputs": [
    {
     "name": "stdout",
     "output_type": "stream",
     "text": [
      "7.0\n"
     ]
    }
   ],
   "source": [
    "#challenge1\n",
    "elements = int(input(\"How many numbers u'd like to include?\")) # prompt to enter the numbers \n",
    "summation =[] # make an empty list\n",
    "for i in range (elements):\n",
    "    number = float(input(\"Enter number {i + 1}: \")) #prompt the user to enter these numbers\n",
    "    summation.append(number) # add the input numbers in the empty list\n",
    "\n",
    "print(sum(summation)) # use the "
   ]
  },
  {
   "cell_type": "code",
   "execution_count": null,
   "id": "1bfa54ef",
   "metadata": {},
   "outputs": [],
   "source": []
  }
 ],
 "metadata": {
  "kernelspec": {
   "display_name": "bootcamp",
   "language": "python",
   "name": "python3"
  },
  "language_info": {
   "codemirror_mode": {
    "name": "ipython",
    "version": 3
   },
   "file_extension": ".py",
   "mimetype": "text/x-python",
   "name": "python",
   "nbconvert_exporter": "python",
   "pygments_lexer": "ipython3",
   "version": "3.10.16"
  }
 },
 "nbformat": 4,
 "nbformat_minor": 5
}
